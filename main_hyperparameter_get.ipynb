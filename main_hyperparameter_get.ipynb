{
 "cells": [
  {
   "cell_type": "markdown",
   "id": "d098f2c3",
   "metadata": {},
   "source": [
    "# 기본 하이퍼파라미터 학습코드\n",
    "- 기본 Actor와 Critic, 좀더 복잡한 버전의 Actor와 Critic"
   ]
  },
  {
   "cell_type": "code",
   "execution_count": null,
   "id": "9a87df7a",
   "metadata": {},
   "outputs": [],
   "source": [
    "from learning import A2CLearner\n",
    "from Critic_and_Actor import Critic, Actor, Actor_best, Critic_best\n",
    "from tensorboardX import SummaryWriter\n",
    "import torch\n",
    "import gym\n",
    "from datetime import datetime\n",
    "env = gym.make('BipedalWalker-v3')\n",
    "\n",
    "state_dim = env.observation_space.shape[0]\n",
    "n_actions = env.action_space.shape[0]\n",
    "\n",
    "## 여기서 새로정의 및 저장하는 코드만들기 \n",
    "max_episode = 10000#학습당 사용할 에피소드의 수\n",
    "use_best = ['best', 'origin']\n",
    "learning_rate_actor = [4e-4,4e-3,4e-5]\n",
    "learning_rate_critic = [4e-3,4e-3,4e-4]\n",
    "gammas = [0.9, 0.8, 0.7]\n",
    "variance\n",
    "for model_mode in use_best:\n",
    "    for learning_index  in range(len(learning_rate_actor)):\n",
    "        for gamma in gammas:\n",
    "            now = datetime.now()\n",
    "            dt_string = now.strftime(\"%d_%d %H:%M:%S \")\n",
    "            writer = SummaryWriter('runs/'+dt_string+\n",
    "                                   \" model_\"+model_mode+\"-\"+\n",
    "                                   \" lr_actor_\"+str(learning_rate_actor[learning_index])+\"-\"+\n",
    "                                   \" lr_critic_\"+str(learning_rate_critic[learning_index])+\"-\"+\n",
    "                                   \" gamma_\"+str(gamma)\n",
    "                                  )\n",
    "\n",
    "            #사용하는 모델 \n",
    "            if model_mode ==\"origin\":\n",
    "                actor = Actor(state_dim, n_actions).cuda() \n",
    "                critic = Critic(state_dim).cuda() \n",
    "            elif model_mode ==\"best\":#모델의 레이어 수 및 상태가 많아지고, 편차도 커짐 \n",
    "                actor = Actor_best(state_dim, n_actions).cuda() \n",
    "                critic = Critic_best(state_dim).cuda() \n",
    "\n",
    "            learner = A2CLearner(actor, critic)\n",
    "            learner.A2C_env_run(env, max_episode, writer)\n",
    "\n",
    "            #학습다돌리고 10번정도 확인하기\n",
    "            \n",
    "            torch.save(actor.state_dict(),\n",
    "                       \"./model_weight/\"+dt_string+model_mode+\n",
    "                       \" lr_actor_\"+str(learning_rate_actor[learning_index])+\n",
    "                       \"-\"+\" gamma_\"+str(gamma)+\n",
    "                       \" actor_weight.pth\")\n",
    "            torch.save(critic.state_dict(),\n",
    "                       \"./model_weight/\"+dt_string+model_mode+\n",
    "                       \" lr_critic_\"+str(learning_rate_critic[learning_index])+\n",
    "                       \"-\"+\" gamma_\"+str(gamma)+\n",
    "                       \" critic_weight.pth\")\n",
    "            for j in range(10):\n",
    "              learner.view(env)\n",
    "            env.close()\n",
    "            writer.close()\n",
    "\n",
    "\n",
    "\n"
   ]
  }
 ],
 "metadata": {
  "kernelspec": {
   "display_name": "Python 3 (ipykernel)",
   "language": "python",
   "name": "python3"
  },
  "language_info": {
   "codemirror_mode": {
    "name": "ipython",
    "version": 3
   },
   "file_extension": ".py",
   "mimetype": "text/x-python",
   "name": "python",
   "nbconvert_exporter": "python",
   "pygments_lexer": "ipython3",
   "version": "3.8.3"
  }
 },
 "nbformat": 4,
 "nbformat_minor": 5
}
