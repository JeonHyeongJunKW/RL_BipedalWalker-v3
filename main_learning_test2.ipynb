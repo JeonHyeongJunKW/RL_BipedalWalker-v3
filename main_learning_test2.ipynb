{
 "cells": [
  {
   "cell_type": "code",
   "execution_count": null,
   "id": "9a87df7a",
   "metadata": {},
   "outputs": [],
   "source": [
    "from learning import A2CLearner\n",
    "from Critic_and_Actor import Critic, Actor, Actor_best, Critic_best\n",
    "from tensorboardX import SummaryWriter\n",
    "import torch\n",
    "import gym\n",
    "from datetime import datetime\n",
    "env = gym.make('BipedalWalker-v3')\n",
    "\n",
    "state_dim = env.observation_space.shape[0]\n",
    "n_actions = env.action_space.shape[0]\n",
    "\n",
    "## 여기서 새로정의 및 저장하는 코드만들기 \n",
    "max_episode = 4000#알고리즘당 사용할 에피소드의 수\n",
    "use_best = ['best', 'origin']\n",
    "learning_rate_actor = [4e-4,4e-3,4e-5]\n",
    "learning_rate_critic = [4e-3,4e-3,4e-4]\n",
    "gammas = [0.9, 0.8, 0.7]/home/jeon/rl_git/RL_BipedalWalker-v3/model_tester.py\n",
    "stds = [0.5, 0.4, 0.3, 0.2]\n",
    "memory_size = [100,200,300,500,16]\n",
    "for memory_s in memory_size:\n",
    "    for std in stds:\n",
    "        for learning_index  in range(len(learning_rate_actor)):\n",
    "            for gamma in gammas:\n",
    "                now = datetime.now()\n",
    "                dt_string = now.strftime(\"%d_%d %H:%M:%S \")\n",
    "                writer = SummaryWriter('runs/'+dt_string+\n",
    "                                       \" std_\"+str(std)+\"-\"+\n",
    "                                       \" lr_actor_\"+str(learning_rate_actor[learning_index])+\"-\"+\n",
    "                                       \" lr_critic_\"+str(learning_rate_critic[learning_index])+\"-\"+\n",
    "                                       \" gamma_\"+str(gamma)+\" memory\"+str(memory_s)\n",
    "                                      )\n",
    "\n",
    "                #사용하는 모델 \n",
    "                actor = Actor_best(state_dim, n_actions,std).cuda() \n",
    "                critic = Critic_best(state_dim).cuda() \n",
    "                learner = A2CLearner(actor, critic)\n",
    "                learner.A2C_env_run(env, max_episode, writer,memory_s)\n",
    "\n",
    "                #학습다돌리고 10번정도 확인하기\n",
    "\n",
    "                torch.save(actor.state_dict(),\n",
    "                           \"./model_weight/actor/\"+dt_string+\"std \"+str(std)+\n",
    "                           \" lr_actor_\"+str(learning_rate_actor[learning_index])+\n",
    "                           \"-\"+\" gamma_\"+str(gamma)+\" memory\"+str(memory_s)+\n",
    "                           \" actor_weight.pth\")\n",
    "                torch.save(critic.state_dict(),\n",
    "                           \"./model_weight/critic/\"+dt_string+\"std \"+str(std)+\n",
    "                           \" lr_critic_\"+str(learning_rate_critic[learning_index])+\n",
    "                           \"-\"+\" gamma_\"+str(gamma)+\" memory\"+str(memory_s)+\n",
    "                           \" critic_weight.pth\")\n",
    "                for j in range(10):\n",
    "                  learner.view(env)\n",
    "                env.close()\n",
    "                writer.close()\n",
    "\n",
    "\n",
    "\n"
   ]
  },
  {
   "cell_type": "code",
   "execution_count": 27,
   "id": "40ec4ae9",
   "metadata": {},
   "outputs": [
    {
     "name": "stdout",
     "output_type": "stream",
     "text": [
      "./model_weight/13_13 06:14:15 origin lr_actor_4e-05- gamma_0.7 actor_weight.pth\n"
     ]
    }
   ],
   "source": [
    "from model_tester import model_tester\n",
    "model_tester(\"actor/13_13 06:14:15 origin lr_actor_4e-05- gamma_0.7 actor_weight.pth\",\"origin\")"
   ]
  }
 ],
 "metadata": {
  "kernelspec": {
   "display_name": "Python 3 (ipykernel)",
   "language": "python",
   "name": "python3"
  },
  "language_info": {
   "codemirror_mode": {
    "name": "ipython",
    "version": 3
   },
   "file_extension": ".py",
   "mimetype": "text/x-python",
   "name": "python",
   "nbconvert_exporter": "python",
   "pygments_lexer": "ipython3",
   "version": "3.8.3"
  }
 },
 "nbformat": 4,
 "nbformat_minor": 5
}
